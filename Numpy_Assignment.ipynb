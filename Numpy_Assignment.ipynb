{
 "cells": [
  {
   "cell_type": "markdown",
   "metadata": {},
   "source": [
    "NAME : NAVEEN ROWTHULA\n",
    "\n",
    "UCID : nr475"
   ]
  },
  {
   "cell_type": "markdown",
   "metadata": {},
   "source": [
    "# NumPy Exercises \n"
   ]
  },
  {
   "cell_type": "markdown",
   "metadata": {},
   "source": [
    "## Defining an array\n"
   ]
  },
  {
   "cell_type": "markdown",
   "metadata": {},
   "source": [
    "#### Import NumPy as np"
   ]
  },
  {
   "cell_type": "code",
   "execution_count": 38,
   "metadata": {},
   "outputs": [],
   "source": [
    "import numpy as np"
   ]
  },
  {
   "cell_type": "markdown",
   "metadata": {},
   "source": [
    "#### Create an array of 10 zeros "
   ]
  },
  {
   "cell_type": "code",
   "execution_count": 39,
   "metadata": {},
   "outputs": [
    {
     "name": "stdout",
     "output_type": "stream",
     "text": [
      "[0. 0. 0. 0. 0. 0. 0. 0. 0. 0.]\n"
     ]
    }
   ],
   "source": [
    "a1 = np.zeros(10)\n",
    "print(a1)"
   ]
  },
  {
   "cell_type": "markdown",
   "metadata": {},
   "source": [
    "#### Create an array of 10 ones"
   ]
  },
  {
   "cell_type": "code",
   "execution_count": 40,
   "metadata": {},
   "outputs": [
    {
     "name": "stdout",
     "output_type": "stream",
     "text": [
      "[1. 1. 1. 1. 1. 1. 1. 1. 1. 1.]\n"
     ]
    }
   ],
   "source": [
    "a2=np.ones(10)\n",
    "print(a2)"
   ]
  },
  {
   "cell_type": "markdown",
   "metadata": {},
   "source": [
    "#### Create an array of 10 tens"
   ]
  },
  {
   "cell_type": "code",
   "execution_count": 41,
   "metadata": {},
   "outputs": [
    {
     "name": "stdout",
     "output_type": "stream",
     "text": [
      "[10 10 10 10 10 10 10 10 10 10]\n"
     ]
    }
   ],
   "source": [
    "a3 = np.full(10,10)\n",
    "print(a3)"
   ]
  },
  {
   "cell_type": "markdown",
   "metadata": {},
   "source": [
    "#### Create an array of the integers from 10 to 100"
   ]
  },
  {
   "cell_type": "code",
   "execution_count": 42,
   "metadata": {},
   "outputs": [
    {
     "name": "stdout",
     "output_type": "stream",
     "text": [
      "[10 11 12 13 14 15 16 17 18 19 20 21 22 23 24 25 26 27 28 29 30 31 32 33\n",
      " 34 35 36 37 38 39 40 41 42 43 44 45 46 47 48 49 50 51 52 53 54 55 56 57\n",
      " 58 59 60 61 62 63 64 65 66 67 68 69 70 71 72 73 74 75 76 77 78 79 80 81\n",
      " 82 83 84 85 86 87 88 89 90 91 92 93 94 95 96 97 98 99]\n"
     ]
    }
   ],
   "source": [
    "a4 = np.arange(10,100)\n",
    "print(a4)"
   ]
  },
  {
   "cell_type": "markdown",
   "metadata": {},
   "source": [
    "#### Create an array of all the odd integers from 10 to 30"
   ]
  },
  {
   "cell_type": "code",
   "execution_count": 43,
   "metadata": {},
   "outputs": [
    {
     "name": "stdout",
     "output_type": "stream",
     "text": [
      "[11 13 15 17 19 21 23 25 27 29]\n"
     ]
    }
   ],
   "source": [
    "a5 = np.arange(11,30,2)\n",
    "print(a5)"
   ]
  },
  {
   "cell_type": "markdown",
   "metadata": {},
   "source": [
    "#### Create a 3x3 array with values ranging from 0 to 8 "
   ]
  },
  {
   "cell_type": "code",
   "execution_count": 44,
   "metadata": {},
   "outputs": [
    {
     "name": "stdout",
     "output_type": "stream",
     "text": [
      "[[0 1 2]\n",
      " [3 4 5]\n",
      " [6 7 8]]\n"
     ]
    }
   ],
   "source": [
    "a6 = np.reshape(np.arange(0,9),(3,3))\n",
    "print(a6)"
   ]
  },
  {
   "cell_type": "markdown",
   "metadata": {},
   "source": [
    "#### Create an array of 25 random numbers between 0 and 1"
   ]
  },
  {
   "cell_type": "code",
   "execution_count": 45,
   "metadata": {},
   "outputs": [
    {
     "name": "stdout",
     "output_type": "stream",
     "text": [
      "[0.08075725 0.42718132 0.93108128 0.27570335 0.05890921 0.88674534\n",
      " 0.35550416 0.45017572 0.57710648 0.20213582 0.11809571 0.18972168\n",
      " 0.25474013 0.46297703 0.20919571 0.30520536 0.5693752  0.90179322\n",
      " 0.62785106 0.51237459 0.05443885 0.30258283 0.53990124 0.98152681\n",
      " 0.25370833]\n"
     ]
    }
   ],
   "source": [
    "a7 = np.random.rand(25)\n",
    "print(a7)"
   ]
  },
  {
   "cell_type": "markdown",
   "metadata": {},
   "source": [
    "#### Create an array of 40 linearly spaced points between 0 and 10:"
   ]
  },
  {
   "cell_type": "code",
   "execution_count": 46,
   "metadata": {},
   "outputs": [
    {
     "name": "stdout",
     "output_type": "stream",
     "text": [
      "[ 0.          0.25641026  0.51282051  0.76923077  1.02564103  1.28205128\n",
      "  1.53846154  1.79487179  2.05128205  2.30769231  2.56410256  2.82051282\n",
      "  3.07692308  3.33333333  3.58974359  3.84615385  4.1025641   4.35897436\n",
      "  4.61538462  4.87179487  5.12820513  5.38461538  5.64102564  5.8974359\n",
      "  6.15384615  6.41025641  6.66666667  6.92307692  7.17948718  7.43589744\n",
      "  7.69230769  7.94871795  8.20512821  8.46153846  8.71794872  8.97435897\n",
      "  9.23076923  9.48717949  9.74358974 10.        ]\n"
     ]
    }
   ],
   "source": [
    "a8 = np.linspace(0,10,40)\n",
    "print(a8)"
   ]
  },
  {
   "cell_type": "markdown",
   "metadata": {},
   "source": [
    "## Indexing \n"
   ]
  },
  {
   "cell_type": "code",
   "execution_count": 47,
   "metadata": {},
   "outputs": [
    {
     "data": {
      "text/plain": [
       "array([[ 1,  2,  3,  4,  5,  6],\n",
       "       [ 7,  8,  9, 10, 11, 12],\n",
       "       [13, 14, 15, 16, 17, 18],\n",
       "       [19, 20, 21, 22, 23, 24]])"
      ]
     },
     "execution_count": 47,
     "metadata": {},
     "output_type": "execute_result"
    }
   ],
   "source": [
    "#You are given the following 2D array\n",
    "a9 = np.arange(1,25).reshape(4,-1)\n",
    "a9"
   ]
  },
  {
   "cell_type": "code",
   "execution_count": 48,
   "metadata": {},
   "outputs": [
    {
     "data": {
      "text/plain": [
       "array([[ 9, 10, 11, 12],\n",
       "       [15, 16, 17, 18],\n",
       "       [21, 22, 23, 24]])"
      ]
     },
     "execution_count": 48,
     "metadata": {},
     "output_type": "execute_result"
    }
   ],
   "source": [
    "# Use array indexing to select the subset that contains 9,10,11,12,15,16,17,18,21,22,23,24. \n",
    "# In other words, the 3 * 4 sub-matrix in the bottom right corner of your array\n",
    "# I have shown you the output -- be careful, if you run your code, it is going to \"wipe out\" my output\n",
    "a10 = a9[1:,2:]\n",
    "np.reshape(a10, (3,-1))"
   ]
  },
  {
   "cell_type": "code",
   "execution_count": 49,
   "metadata": {},
   "outputs": [
    {
     "data": {
      "text/plain": [
       "20"
      ]
     },
     "execution_count": 49,
     "metadata": {},
     "output_type": "execute_result"
    }
   ],
   "source": [
    "# Use array indexing  get the value 20, as my output shows\n",
    "a9[3,1]"
   ]
  },
  {
   "cell_type": "code",
   "execution_count": 50,
   "metadata": {},
   "outputs": [
    {
     "data": {
      "text/plain": [
       "array([[10],\n",
       "       [16],\n",
       "       [22]])"
      ]
     },
     "execution_count": 50,
     "metadata": {},
     "output_type": "execute_result"
    }
   ],
   "source": [
    "# Use array indexing  get the column 10, 16, 22, as my output shows\n",
    "p = a[1:,3]\n",
    "np.reshape(p,(3,-1))"
   ]
  },
  {
   "cell_type": "code",
   "execution_count": 51,
   "metadata": {},
   "outputs": [
    {
     "data": {
      "text/plain": [
       "array([[15, 16, 17]])"
      ]
     },
     "execution_count": 51,
     "metadata": {},
     "output_type": "execute_result"
    }
   ],
   "source": [
    "# Use array indexing  get the row [15,16,17] as my output shows\n",
    "q = a[2,2:5]\n",
    "np.reshape(q,(1,-1))"
   ]
  },
  {
   "cell_type": "markdown",
   "metadata": {},
   "source": [
    "### Now the hard task!"
   ]
  },
  {
   "cell_type": "markdown",
   "metadata": {},
   "source": [
    "#### Write a function that gives the users four random integers between 1 and 10 and ask them to enter the square number of them. If the user answers all of them correctly, congratulate them. Otherwise, show them the right answer"
   ]
  },
  {
   "cell_type": "code",
   "execution_count": 52,
   "metadata": {},
   "outputs": [
    {
     "name": "stdout",
     "output_type": "stream",
     "text": [
      "Random Integers Generated are [7 5 3 9]\n",
      "What is the square of 7 ?49\n",
      "Good!!\n",
      "What is the square of 5 ?25\n",
      "Good!!\n",
      "What is the square of 3 ?9\n",
      "Good!!\n",
      "What is the square of 9 ?81\n",
      "Good!!\n",
      "Congratulations!!!!!\n"
     ]
    }
   ],
   "source": [
    "# Step 0: Import numpy -- ALWAYS import all the libraries you need at the beginning!\n",
    "import numpy as np\n",
    "\n",
    "#Step 1: Function creation -- refer to the last lab for the syntax of function creation\n",
    "# does our function take parameters?\n",
    "# Create your function here:\n",
    "\n",
    "    \n",
    "#Step 2: Create an array of four random integers between 1 and 10 \n",
    "   \n",
    "#Step 3: Print your numbers\n",
    "\n",
    "\n",
    "#Step 4: Prompt the user to enter four numbers, ONE AT A TIME. Use a loop to store these four numbers in a new array\n",
    "#  HINT 1: We could take all four numbers in through one line, but to practice loop, let's do it the hard way\n",
    "#  HINT 2: You can start by creating an empty array -- np.array([]), then appending to it one at a time\n",
    "#  HINT 3: Remember, input() only returns STRINGS. You need to turn them into integers\n",
    "\n",
    "def test_Squares():\n",
    "    randNumbers = np.random.randint(1,11,4) \n",
    "    print(\"Random Integers Generated are\", + randNumbers)\n",
    "    rightAnswers = 0\n",
    "    initial = [0,1,2,3]\n",
    "    for i in initial:\n",
    "        x = (\"What is the square of {0} ?\".format(randNumbers[i]))\n",
    "        sq = int(input(x))\n",
    "        if(sq == randNumbers[i]**2):\n",
    "            print(\"Good!!\")\n",
    "            rightAnswers +=1\n",
    "        else:\n",
    "            y = (\"The correct Answer is {0}\".format(randNumbers[i]**2))\n",
    "            print(y)\n",
    "    if rightAnswers == 4:\n",
    "        print(\"Congratulations!!!!!\")\n",
    "        \n",
    "test_Squares()\n",
    "\n",
    "\n",
    "\n",
    "\n",
    "\n",
    "\n",
    "\n",
    "\n",
    "\n",
    "\n",
    "\n",
    "\n",
    "#Step 5: Now that you have the two arrays, you can compare them using array functions and decide whether the answers are correct\n",
    "#  HINT 4: To compare two arrays, you can use array1 == array2 -- however, you have to use a variable to hold the result\n",
    "#          The resulted array is an array of Boolean values. To quickly check whether it contains true value, you might want to\n",
    "#          use the all() or any() function...\n",
    "\n",
    "\n",
    "\n",
    "\n",
    "\n",
    "    "
   ]
  },
  {
   "cell_type": "markdown",
   "metadata": {},
   "source": [
    " "
   ]
  }
 ],
 "metadata": {
  "kernelspec": {
   "display_name": "Python 3",
   "language": "python",
   "name": "python3"
  },
  "language_info": {
   "codemirror_mode": {
    "name": "ipython",
    "version": 3
   },
   "file_extension": ".py",
   "mimetype": "text/x-python",
   "name": "python",
   "nbconvert_exporter": "python",
   "pygments_lexer": "ipython3",
   "version": "3.7.6"
  }
 },
 "nbformat": 4,
 "nbformat_minor": 1
}
